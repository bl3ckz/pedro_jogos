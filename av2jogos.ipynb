{
  "nbformat": 4,
  "nbformat_minor": 0,
  "metadata": {
    "colab": {
      "provenance": [],
      "authorship_tag": "ABX9TyOqCP37ggmMJ5uWIZ48gi/T",
      "include_colab_link": true
    },
    "kernelspec": {
      "name": "python3",
      "display_name": "Python 3"
    },
    "language_info": {
      "name": "python"
    }
  },
  "cells": [
    {
      "cell_type": "markdown",
      "metadata": {
        "id": "view-in-github",
        "colab_type": "text"
      },
      "source": [
        "<a href=\"https://colab.research.google.com/github/bl3ckz/pedro_jogos/blob/main/av2jogos.ipynb\" target=\"_parent\"><img src=\"https://colab.research.google.com/assets/colab-badge.svg\" alt=\"Open In Colab\"/></a>"
      ]
    },
    {
      "cell_type": "code",
      "source": [
        "!pip install mysql-connector-python"
      ],
      "metadata": {
        "id": "gg4ZjpnMXETq",
        "colab": {
          "base_uri": "https://localhost:8080/"
        },
        "outputId": "fa106583-3346-4dbe-c414-0fd5254e0736"
      },
      "execution_count": null,
      "outputs": [
        {
          "output_type": "stream",
          "name": "stdout",
          "text": [
            "Collecting mysql-connector-python\n",
            "  Downloading mysql_connector_python-9.3.0-cp311-cp311-manylinux_2_28_x86_64.whl.metadata (7.2 kB)\n",
            "Downloading mysql_connector_python-9.3.0-cp311-cp311-manylinux_2_28_x86_64.whl (33.9 MB)\n",
            "\u001b[2K   \u001b[90m━━━━━━━━━━━━━━━━━━━━━━━━━━━━━━━━━━━━━━━━\u001b[0m \u001b[32m33.9/33.9 MB\u001b[0m \u001b[31m17.8 MB/s\u001b[0m eta \u001b[36m0:00:00\u001b[0m\n",
            "\u001b[?25hInstalling collected packages: mysql-connector-python\n",
            "Successfully installed mysql-connector-python-9.3.0\n"
          ]
        }
      ]
    },
    {
      "cell_type": "code",
      "source": [
        "import mysql.connector\n",
        "\n",
        "# Conexão com o banco\n",
        "conexao = mysql.connector.connect(\n",
        "    host=\"localhost\",\n",
        "    user=\"root\",       # Altere se tiver senha\n",
        "    password=\"\",       # Coloque sua senha se tiver\n",
        "    database=\"jogosescolares\"\n",
        ")\n",
        "\n",
        "cursor = conexao.cursor()\n"
      ],
      "metadata": {
        "id": "_fkDKVSaAjEC"
      },
      "execution_count": 3,
      "outputs": []
    },
    {
      "cell_type": "code",
      "source": [
        "def criar_tabela():\n",
        "    cursor.execute(\"\"\"\n",
        "        CREATE TABLE IF NOT EXISTS jogadores (\n",
        "            id INT AUTO_INCREMENT PRIMARY KEY,\n",
        "            nome VARCHAR(100),\n",
        "            idade INT,\n",
        "            pontos INT\n",
        "        )\n",
        "    \"\"\")\n",
        "    conexao.commit()\n",
        "    print(\"Tabela criada com sucesso!\")\n",
        "\n",
        "criar_tabela()\n"
      ],
      "metadata": {
        "id": "AaVo1o0NAkz2"
      },
      "execution_count": null,
      "outputs": []
    },
    {
      "cell_type": "code",
      "source": [
        "class Jogador:\n",
        "    def __init__(self, nome, idade, pontos):\n",
        "        self.nome = nome\n",
        "        self.idade = idade\n",
        "        self.__pontos = pontos\n",
        "\n",
        "    def exibir_dados(self):\n",
        "        print(f\"Nome: {self.nome} | Idade: {self.idade} | Pontos: {self.__pontos}\")\n",
        "\n",
        "    def adicionar_pontos(self, valor):\n",
        "        self.__pontos += valor\n",
        "\n",
        "    def remover_pontos(self, valor):\n",
        "        self.__pontos -= valor\n",
        "\n",
        "    def get_pontos(self):\n",
        "        return self.__pontos\n",
        "\n",
        "    def set_pontos(self, novo_valor):\n",
        "        if novo_valor >= 0:\n",
        "            self.__pontos = novo_valor\n",
        "\n",
        "    def verificar_status(self):\n",
        "        if self.__pontos >= 100:\n",
        "            return \"Ouro\"\n",
        "        elif self.__pontos >= 50:\n",
        "            return \"Prata\"\n",
        "        else:\n",
        "            return \"Bronze\"\n",
        "\n",
        "class JogadorAtivo(Jogador):\n",
        "    def __init__(self, nome, idade, pontos, partidas):\n",
        "        super().__init__(nome, idade, pontos)\n",
        "        self.partidas = partidas\n",
        "\n",
        "    def registrar_partida(self):\n",
        "        self.partidas += 1\n",
        "\n",
        "    def exibir_dados(self):\n",
        "        print(f\"[Ativo] Nome: {self.nome} | Idade: {self.idade} | Pontos: {self.get_pontos()} | Partidas: {self.partidas}\")\n"
      ],
      "metadata": {
        "id": "grNXumMiApXl"
      },
      "execution_count": null,
      "outputs": []
    },
    {
      "cell_type": "code",
      "source": [
        "# Funções MySQL\n",
        "def inserir_jogador(nome, idade, pontos):\n",
        "    comando = \"INSERT INTO jogadores (nome, idade, pontos) VALUES (%s, %s, %s)\"\n",
        "    valores = (nome, idade, pontos)\n",
        "    cursor.execute(comando, valores)\n",
        "    conexao.commit()\n",
        "    print(\"Jogador inserido com sucesso.\")\n",
        "\n",
        "def listar_jogadores():\n",
        "    cursor.execute(\"SELECT * FROM jogadores ORDER BY pontos DESC\")\n",
        "    resultado = cursor.fetchall()\n",
        "    print(\"=== Ranking dos Jogadores ===\")\n",
        "    for id, nome, idade, pontos in resultado:\n",
        "        print(f\"{id} | {nome} | {idade} anos | {pontos} pontos\")\n",
        "\n",
        "def deletar_jogador(id):\n",
        "    cursor.execute(\"DELETE FROM jogadores WHERE id = %s\", (id,))\n",
        "    conexao.commit()\n",
        "    print(\"Jogador removido com sucesso.\")\n",
        "\n",
        "\n",
        "# MENU com inputs\n",
        "def menu():\n",
        "    while True:\n",
        "        print(\"\\n1 - Cadastrar Jogador\")\n",
        "        print(\"2 - Mostrar Ranking\")\n",
        "        print(\"3 - Deletar Jogador\")\n",
        "        print(\"4 - Sair\")\n",
        "\n",
        "        opcao = input(\"Escolha uma opção: \")\n",
        "\n",
        "        if opcao == \"1\":\n",
        "            nome = input(\"Nome do jogador: \")\n",
        "            idade = int(input(\"Idade: \"))\n",
        "            pontos = int(input(\"Pontos iniciais: \"))\n",
        "            inserir_jogador(nome, idade, pontos)\n",
        "\n",
        "        elif opcao == \"2\":\n",
        "            listar_jogadores()\n",
        "\n",
        "        elif opcao == \"3\":\n",
        "            id_jogador = int(input(\"ID do jogador para deletar: \"))\n",
        "            deletar_jogador(id_jogador)\n",
        "\n",
        "        elif opcao == \"4\":\n",
        "            print(\"Encerrando...\")\n",
        "            break\n",
        "        else:\n",
        "            print(\"Opção inválida!\")\n",
        "\n",
        "# Iniciar o menu\n",
        "menu()\n"
      ],
      "metadata": {
        "id": "HBGxJLbfArkS"
      },
      "execution_count": null,
      "outputs": []
    }
  ]
}